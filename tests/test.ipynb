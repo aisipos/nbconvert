{
 "metadata": {
  "name": "test"
 },
 "nbformat": 3,
 "worksheets": [
  {
   "cells": [
    {
     "cell_type": "heading",
     "level": 1,
     "source": [
      "H1"
     ]
    },
    {
     "cell_type": "heading",
     "level": 2,
     "source": [
      "H2"
     ]
    },
    {
     "cell_type": "heading",
     "level": 3,
     "source": [
      "H3"
     ]
    },
    {
     "cell_type": "heading",
     "level": 4,
     "source": [
      "H4"
     ]
    },
    {
     "cell_type": "heading",
     "level": 5,
     "source": [
      "H5"
     ]
    },
    {
     "cell_type": "heading",
     "level": 6,
     "source": [
      "H6"
     ]
    },
    {
     "cell_type": "markdown",
     "source": [
      "A section heading",
      "=================",
      "",
      "A bit of text, with *important things*:",
      "",
      "* and",
      "* more",
      "",
      "Using reST links to `ipython <http://ipython.org>`_."
     ]
    },
    {
     "cell_type": "code",
     "collapsed": false,
     "input": [
      "f = figure()",
      "plot([1])",
      "display(f)"
     ],
     "language": "python",
     "outputs": [
      {
       "output_type": "display_data",
       "png": "[encoded data removed]",
       "text": [
        "<matplotlib.figure.Figure at 0x28f2750>"
       ]
      },
      {
       "output_type": "display_data",
       "png": "[encoded data removed]"
      }
     ],
     "prompt_number": 1
    },
    {
     "cell_type": "code",
     "collapsed": true,
     "input": [
      "# multiline input",
      "x = 1",
      "y = 2"
     ],
     "language": "python",
     "outputs": [],
     "prompt_number": 2
    },
    {
     "cell_type": "code",
     "collapsed": false,
     "input": [
      "1+2"
     ],
     "language": "python",
     "outputs": [
      {
       "output_type": "pyout",
       "prompt_number": 3,
       "text": [
        "3"
       ]
      }
     ],
     "prompt_number": 3
    },
    {
     "cell_type": "code",
     "collapsed": false,
     "input": [
      "print 'hello world'"
     ],
     "language": "python",
     "outputs": [
      {
       "output_type": "stream",
       "stream": "stdout",
       "text": [
        "hello world"
       ]
      }
     ],
     "prompt_number": 4
    },
    {
     "cell_type": "markdown",
     "source": [
      "$e^{i\\pi} + 1 = 0$"
     ]
    },
    {
     "cell_type": "code",
     "collapsed": true,
     "input": [],
     "language": "python",
     "outputs": []
    }
   ]
  }
 ]
}